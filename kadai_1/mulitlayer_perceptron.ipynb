{
 "cells": [
  {
   "cell_type": "code",
   "execution_count": 1,
   "id": "5cc17370",
   "metadata": {},
   "outputs": [],
   "source": [
    "import numpy as np"
   ]
  },
  {
   "cell_type": "code",
   "execution_count": 2,
   "id": "a014d787",
   "metadata": {},
   "outputs": [
    {
     "name": "stdout",
     "output_type": "stream",
     "text": [
      "(0, 0) -> 0\n",
      "(1, 0) -> 0\n",
      "(0, 1) -> 0\n",
      "(1, 1) -> 1\n"
     ]
    }
   ],
   "source": [
    "def AND(x1, x2):\n",
    "    x = np.array([x1, x2])\n",
    "    w = np.array([0.5, 0.5])\n",
    "    b = -0.8\n",
    "    tmp = np.sum(w*x) + b\n",
    "    if tmp <= 0:\n",
    "        return 0\n",
    "    else:\n",
    "        return 1\n",
    "\n",
    "if __name__ == '__main__':\n",
    "    for xs in [(0, 0), (1, 0), (0, 1), (1, 1)]:\n",
    "        y = AND(xs[0], xs[1])\n",
    "        print(str(xs) + \" -> \" + str(y))"
   ]
  },
  {
   "cell_type": "code",
   "execution_count": 3,
   "id": "8af84650",
   "metadata": {},
   "outputs": [
    {
     "name": "stdout",
     "output_type": "stream",
     "text": [
      "(0, 0) -> 1\n",
      "(1, 0) -> 1\n",
      "(0, 1) -> 1\n",
      "(1, 1) -> 0\n"
     ]
    }
   ],
   "source": [
    "import numpy as np\n",
    "\n",
    "\n",
    "def NAND(x1, x2):\n",
    "    x = np.array([x1, x2])\n",
    "    w = np.array([-0.5, -0.5])\n",
    "    b = 0.8\n",
    "    tmp = np.sum(w*x) + b\n",
    "    if tmp <= 0:\n",
    "        return 0\n",
    "    else:\n",
    "        return 1\n",
    "\n",
    "if __name__ == '__main__':\n",
    "    for xs in [(0, 0), (1, 0), (0, 1), (1, 1)]:\n",
    "        y = NAND(xs[0], xs[1])\n",
    "        print(str(xs) + \" -> \" + str(y))"
   ]
  },
  {
   "cell_type": "code",
   "execution_count": 4,
   "id": "8fef8343",
   "metadata": {},
   "outputs": [
    {
     "name": "stdout",
     "output_type": "stream",
     "text": [
      "(0, 0) -> 0\n",
      "(1, 0) -> 1\n",
      "(0, 1) -> 1\n",
      "(1, 1) -> 1\n"
     ]
    }
   ],
   "source": [
    "import numpy as np\n",
    "\n",
    "\n",
    "def OR(x1, x2):\n",
    "    x = np.array([x1, x2])\n",
    "    w = np.array([0.5, 0.5])\n",
    "    b = -0.4\n",
    "    tmp = np.sum(w*x) + b\n",
    "    if tmp <= 0:\n",
    "        return 0\n",
    "    else:\n",
    "        return 1\n",
    "\n",
    "if __name__ == '__main__':\n",
    "    for xs in [(0, 0), (1, 0), (0, 1), (1, 1)]:\n",
    "        y = OR(xs[0], xs[1])\n",
    "        print(str(xs) + \" -> \" + str(y))"
   ]
  },
  {
   "cell_type": "code",
   "execution_count": 5,
   "id": "b9fcce60",
   "metadata": {},
   "outputs": [
    {
     "name": "stdout",
     "output_type": "stream",
     "text": [
      "(0, 0) -> 0\n",
      "(1, 0) -> 1\n",
      "(0, 1) -> 1\n",
      "(1, 1) -> 0\n"
     ]
    }
   ],
   "source": [
    "def XOR(x1, x2):\n",
    "    s1 = NAND(x1, x2)\n",
    "    s2 = OR(x1, x2)\n",
    "    y = AND(s1, s2)\n",
    "    return y\n",
    "\n",
    "if __name__ == '__main__':\n",
    "    for xs in [(0, 0), (1, 0), (0, 1), (1, 1)]:\n",
    "        y = XOR(xs[0], xs[1])\n",
    "        print(str(xs) + \" -> \" + str(y))"
   ]
  },
  {
   "cell_type": "code",
   "execution_count": 6,
   "id": "e9146cf3",
   "metadata": {},
   "outputs": [],
   "source": [
    "import matplotlib.pyplot as plt"
   ]
  },
  {
   "cell_type": "code",
   "execution_count": 7,
   "id": "7360e1b4",
   "metadata": {},
   "outputs": [],
   "source": [
    "#これを候補にする\n",
    "def shitaA(x1,x2):\n",
    "    x = np.array([x1, x2])\n",
    "    w = np.array([0,1])\n",
    "    b = -1.0\n",
    "    tmp = np.sum(w*x) + b\n",
    "    if 0<=tmp:\n",
    "        return 1\n",
    "    else:\n",
    "        return 0\n",
    "\n",
    "def ueA(x1,x2):\n",
    "    x = np.array([x1, x2])\n",
    "    w = np.array([0,-1.0])\n",
    "    b = 2.0\n",
    "    tmp = np.sum(w*x) + b\n",
    "    if 0<=tmp:\n",
    "        return 1\n",
    "    else:\n",
    "        return 0\n",
    "\n",
    "def hidariA(x1,x2):\n",
    "    x = np.array([x1, x2])\n",
    "    w = np.array([1.0,0])\n",
    "    b = -1.0\n",
    "    tmp = np.sum(w*x) + b\n",
    "    if 0<=tmp:\n",
    "        return 1\n",
    "    else:\n",
    "        return 0\n",
    "\n",
    "def migiA(x1,x2):\n",
    "    x = np.array([x1, x2])\n",
    "    w = np.array([-1.0,0])\n",
    "    b = 4.0\n",
    "    tmp = np.sum(w*x) + b\n",
    "    if 0<=tmp:\n",
    "        return 1\n",
    "    else:\n",
    "        return 0"
   ]
  },
  {
   "cell_type": "code",
   "execution_count": 90,
   "id": "92319e0d",
   "metadata": {},
   "outputs": [],
   "source": [
    "def shikakuA(x1, x2):\n",
    "    s1 = shitaA(x1, x2)\n",
    "    s2 = ueA(x1, x2)\n",
    "    s3 = migiA(x1, x2)\n",
    "    s4 = hidariA(x1, x2)\n",
    "    s5= AND(s1, s2)\n",
    "    s6=AND(s3,s4)\n",
    "    y=AND(s5,s6)\n",
    "    return y"
   ]
  },
  {
   "cell_type": "code",
   "execution_count": 10,
   "id": "25ff426b",
   "metadata": {},
   "outputs": [],
   "source": [
    "#これを候補にする\n",
    "def shitaB(x1,x2):\n",
    "    x = np.array([x1, x2])\n",
    "    w = np.array([0,1])\n",
    "    b = -2.0\n",
    "    tmp = np.sum(w*x) + b\n",
    "    if 0<=tmp:\n",
    "        return 1\n",
    "    else:\n",
    "        return 0\n",
    "\n",
    "def ueB(x1,x2):\n",
    "    x = np.array([x1, x2])\n",
    "    w = np.array([0,-1.0])\n",
    "    b = 3.0\n",
    "    tmp = np.sum(w*x) + b\n",
    "    if 0<=tmp:\n",
    "        return 1\n",
    "    else:\n",
    "        return 0\n",
    "\n",
    "def hidariB(x1,x2):\n",
    "    x = np.array([x1, x2])\n",
    "    w = np.array([1.0,0])\n",
    "    b = -1.0\n",
    "    tmp = np.sum(w*x) + b\n",
    "    if 0<=tmp:\n",
    "        return 1\n",
    "    else:\n",
    "        return 0\n",
    "\n",
    "def migiB(x1,x2):\n",
    "    x = np.array([x1, x2])\n",
    "    w = np.array([-1.0,0])\n",
    "    b = 2.0\n",
    "    tmp = np.sum(w*x) + b\n",
    "    if 0<=tmp:\n",
    "        return 1\n",
    "    else:\n",
    "        return 0"
   ]
  },
  {
   "cell_type": "code",
   "execution_count": 11,
   "id": "f9ba2b58",
   "metadata": {},
   "outputs": [],
   "source": [
    "def shikakuB(x1, x2):\n",
    "    s1 = shitaB(x1, x2)\n",
    "    s2 = ueB(x1, x2)\n",
    "    s3 = migiB(x1, x2)\n",
    "    s4 = hidariB(x1, x2)\n",
    "    s5= AND(s1, s2)\n",
    "    s6=AND(s3,s4)\n",
    "    y=AND(s5,s6)\n",
    "    return y"
   ]
  },
  {
   "cell_type": "code",
   "execution_count": 12,
   "id": "de1e6411",
   "metadata": {},
   "outputs": [],
   "source": [
    "xlist=[]\n",
    "ylist=[]\n",
    "for i in np.arange(0,6,0.01):\n",
    "    for j in np.arange(0,6,0.01):\n",
    "        if shikakuB(i,j)==1:\n",
    "            xlist.append(i)\n",
    "            ylist.append(j)"
   ]
  },
  {
   "cell_type": "code",
   "execution_count": 13,
   "id": "6ae08b4e",
   "metadata": {},
   "outputs": [
    {
     "data": {
      "text/plain": [
       "<matplotlib.collections.PathCollection at 0x1f9c8cfebe0>"
      ]
     },
     "execution_count": 13,
     "metadata": {},
     "output_type": "execute_result"
    },
    {
     "data": {
      "image/png": "[encoded data removed]",
      "text/plain": [
       "<Figure size 432x288 with 1 Axes>"
      ]
     },
     "metadata": {
      "needs_background": "light"
     },
     "output_type": "display_data"
    }
   ],
   "source": [
    "plt.scatter(xlist,ylist)"
   ]
  },
  {
   "cell_type": "code",
   "execution_count": 20,
   "id": "67f51af2",
   "metadata": {},
   "outputs": [],
   "source": [
    "#これを候補にする\n",
    "def shitaC(x1,x2):\n",
    "    x = np.array([x1, x2])\n",
    "    w = np.array([0,1])\n",
    "    b = -2.0\n",
    "    tmp = np.sum(w*x) + b\n",
    "    if 0<=tmp:\n",
    "        return 1\n",
    "    else:\n",
    "        return 0\n",
    "\n",
    "def ueC(x1,x2):\n",
    "    x = np.array([x1, x2])\n",
    "    w = np.array([0,-1.0])\n",
    "    b = 3.0\n",
    "    tmp = np.sum(w*x) + b\n",
    "    if 0<=tmp:\n",
    "        return 1\n",
    "    else:\n",
    "        return 0\n",
    "\n",
    "def hidariC(x1,x2):\n",
    "    x = np.array([x1, x2])\n",
    "    w = np.array([1.0,0])\n",
    "    b = -3.0\n",
    "    tmp = np.sum(w*x) + b\n",
    "    if 0<=tmp:\n",
    "        return 1\n",
    "    else:\n",
    "        return 0\n",
    "\n",
    "def migiC(x1,x2):\n",
    "    x = np.array([x1, x2])\n",
    "    w = np.array([-1.0,0])\n",
    "    b = 4.0\n",
    "    tmp = np.sum(w*x) + b\n",
    "    if 0<=tmp:\n",
    "        return 1\n",
    "    else:\n",
    "        return 0"
   ]
  },
  {
   "cell_type": "code",
   "execution_count": 21,
   "id": "017faee3",
   "metadata": {},
   "outputs": [],
   "source": [
    "def shikakuC(x1, x2):\n",
    "    s1 = shitaC(x1, x2)\n",
    "    s2 = ueC(x1, x2)\n",
    "    s3 = migiC(x1, x2)\n",
    "    s4 = hidariC(x1, x2)\n",
    "    s5= AND(s1, s2)\n",
    "    s6=AND(s3,s4)\n",
    "    y=AND(s5,s6)\n",
    "    return y"
   ]
  },
  {
   "cell_type": "code",
   "execution_count": 22,
   "id": "b8780713",
   "metadata": {},
   "outputs": [],
   "source": [
    "xlist=[]\n",
    "ylist=[]\n",
    "for i in np.arange(0,6,0.01):\n",
    "    for j in np.arange(0,6,0.01):\n",
    "        if shikakuC(i,j)==1:\n",
    "            xlist.append(i)\n",
    "            ylist.append(j)"
   ]
  },
  {
   "cell_type": "code",
   "execution_count": 23,
   "id": "324a4877",
   "metadata": {},
   "outputs": [
    {
     "data": {
      "text/plain": [
       "<matplotlib.collections.PathCollection at 0x1f9ca0d7eb0>"
      ]
     },
     "execution_count": 23,
     "metadata": {},
     "output_type": "execute_result"
    },
    {
     "data": {
      "image/png": "[encoded data removed]",
      "text/plain": [
       "<Figure size 432x288 with 1 Axes>"
      ]
     },
     "metadata": {
      "needs_background": "light"
     },
     "output_type": "display_data"
    }
   ],
   "source": [
    "plt.scatter(xlist,ylist)"
   ]
  },
  {
   "cell_type": "code",
   "execution_count": 18,
   "id": "9e526d8a",
   "metadata": {},
   "outputs": [],
   "source": [
    "xlist=[]\n",
    "ylist=[]\n",
    "for i in np.arange(0,6,0.01):\n",
    "    for j in np.arange(0,6,0.01):\n",
    "        if shikakuA(i,j)==1:\n",
    "            xlist.append(i)\n",
    "            ylist.append(j)"
   ]
  },
  {
   "cell_type": "code",
   "execution_count": 92,
   "id": "95694150",
   "metadata": {},
   "outputs": [
    {
     "data": {
      "text/plain": [
       "<matplotlib.collections.PathCollection at 0x26883820610>"
      ]
     },
     "execution_count": 92,
     "metadata": {},
     "output_type": "execute_result"
    },
    {
     "data": {
      "image/png": "[encoded data removed]",
      "text/plain": [
       "<Figure size 432x288 with 1 Axes>"
      ]
     },
     "metadata": {
      "needs_background": "light"
     },
     "output_type": "display_data"
    }
   ],
   "source": [
    "plt.scatter(xlist,ylist)"
   ]
  },
  {
   "cell_type": "code",
   "execution_count": 27,
   "id": "5082922c",
   "metadata": {},
   "outputs": [],
   "source": [
    "#これを最終的な候補にする\n",
    "def shita(x1,x2,region):\n",
    "    x = np.array([x1, x2])\n",
    "    w = np.array([0,1])\n",
    "    if region==\"A\":\n",
    "        b = -1.0\n",
    "    else:\n",
    "        b= -2.0\n",
    "    tmp = np.sum(w*x) + b\n",
    "    if 0<=tmp:\n",
    "        return 1\n",
    "    else:\n",
    "        return 0\n",
    "\n",
    "def ue(x1,x2,region):\n",
    "    x = np.array([x1, x2])\n",
    "    w = np.array([0,-1.0])\n",
    "    if region==\"A\":\n",
    "        b = 2.0\n",
    "    else:\n",
    "        b= 3.0\n",
    "    tmp = np.sum(w*x) + b\n",
    "    if 0<=tmp:\n",
    "        return 1\n",
    "    else:\n",
    "        return 0\n",
    "\n",
    "def hidari(x1,x2,region):\n",
    "    x = np.array([x1, x2])\n",
    "    w = np.array([1.0,0])\n",
    "    if region==\"C\":\n",
    "        b=-3.0\n",
    "    else:\n",
    "        b = -1.0\n",
    "    tmp = np.sum(w*x) + b\n",
    "    if 0<=tmp:\n",
    "        return 1\n",
    "    else:\n",
    "        return 0\n",
    "\n",
    "def migi(x1,x2,region):\n",
    "    x = np.array([x1, x2])\n",
    "    w = np.array([-1.0,0])\n",
    "    if region==\"B\":\n",
    "        b=2.0\n",
    "    else:\n",
    "        b = 4.0\n",
    "    tmp = np.sum(w*x) + b\n",
    "    if 0<=tmp:\n",
    "        return 1\n",
    "    else:\n",
    "        return 0\n",
    "\n",
    "def second_layer(x1, x2,region):\n",
    "    s1 = shita(x1, x2,region)\n",
    "    s2 = ue(x1, x2,region)\n",
    "    s3 = migi(x1, x2,region)\n",
    "    s4 = hidari(x1, x2,region)\n",
    "    s5= AND(s1, s2)\n",
    "    s6=AND(s3,s4)\n",
    "    y=AND(s5,s6)\n",
    "    return y"
   ]
  },
  {
   "cell_type": "code",
   "execution_count": 29,
   "id": "27ce74a0",
   "metadata": {},
   "outputs": [
    {
     "data": {
      "text/plain": [
       "<matplotlib.collections.PathCollection at 0x1f9ca38f460>"
      ]
     },
     "execution_count": 29,
     "metadata": {},
     "output_type": "execute_result"
    },
    {
     "data": {
      "image/png": "[encoded data removed]",
      "text/plain": [
       "<Figure size 432x288 with 1 Axes>"
      ]
     },
     "metadata": {
      "needs_background": "light"
     },
     "output_type": "display_data"
    }
   ],
   "source": [
    "import matplotlib.pyplot as plt\n",
    "x1list=[]\n",
    "x2list=[]\n",
    "for name in [\"A\",\"B\",\"C\"]:\n",
    "    for i in np.arange(0,6,0.01):\n",
    "        for j in np.arange(0,6,0.01):\n",
    "            if second_layer(i,j,name)==1:\n",
    "                x1list.append(i)\n",
    "                x2list.append(j)\n",
    "    \n",
    "plt.scatter(xlist,ylist)"
   ]
  }
 ],
 "metadata": {
  "kernelspec": {
   "display_name": "Python 3 (ipykernel)",
   "language": "python",
   "name": "python3"
  },
  "language_info": {
   "codemirror_mode": {
    "name": "ipython",
    "version": 3
   },
   "file_extension": ".py",
   "mimetype": "text/x-python",
   "name": "python",
   "nbconvert_exporter": "python",
   "pygments_lexer": "ipython3",
   "version": "3.9.12"
  }
 },
 "nbformat": 4,
 "nbformat_minor": 5
}
